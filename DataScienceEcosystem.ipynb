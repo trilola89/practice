{
 "cells": [
  {
   "cell_type": "markdown",
   "id": "f78900b6-1e41-4ec8-898e-7d3b368b1441",
   "metadata": {},
   "source": [
    "# Data Science Tools and Ecosystem"
   ]
  },
  {
   "cell_type": "markdown",
   "id": "2e4847e3-6226-4389-a5ed-0e30b7fb4e38",
   "metadata": {
    "tags": []
   },
   "source": [
    "## Author\n",
    "Teimuraz"
   ]
  },
  {
   "cell_type": "markdown",
   "id": "f5c2c605-cefb-4cfe-9bac-7ce6dbb57fec",
   "metadata": {},
   "source": [
    "In this notebook, Data Science Tools and Ecosystem are summarized."
   ]
  },
  {
   "cell_type": "markdown",
   "id": "2a3907c5-fc09-48bb-a703-9f7155e2cd6a",
   "metadata": {},
   "source": [
    "**Objectives:**\n",
    "* Python\n",
    "* Java\n",
    "* C++\n",
    "\n"
   ]
  },
  {
   "cell_type": "markdown",
   "id": "200ba972-fb21-4ddf-b2b9-dead569112f2",
   "metadata": {},
   "source": [
    "Some of the popular languages that Data Scientists use are:\n",
    "1. Python\n",
    "2. R\n",
    "3. C++\n",
    "4. Java"
   ]
  },
  {
   "cell_type": "markdown",
   "id": "08fee4b9-49e2-47e5-8c4f-623de8cab3eb",
   "metadata": {},
   "source": [
    "Some of the commonly used libraries used by Data Scientists include:\n",
    "1. pandas\n",
    "2. numpy\n",
    "3. nltk\n",
    "4. dask"
   ]
  },
  {
   "cell_type": "markdown",
   "id": "4d091eda-e18c-448b-9e56-96f54a37680e",
   "metadata": {},
   "source": [
    "|Data Science Tools|\n",
    "|---|\n",
    "|RStudio|\n",
    "|Apache Spark|\n",
    "|TensorFlow|"
   ]
  },
  {
   "cell_type": "markdown",
   "id": "3a86e156-9567-418c-9714-8a52ef242399",
   "metadata": {},
   "source": [
    "### Below are a few examples of evaluating arithmetic expressions in Python"
   ]
  },
  {
   "cell_type": "code",
   "execution_count": 2,
   "id": "104c84e3-64bd-4991-a1b5-8ff4416ff7f8",
   "metadata": {
    "tags": []
   },
   "outputs": [
    {
     "data": {
      "text/plain": [
       "17"
      ]
     },
     "execution_count": 2,
     "metadata": {},
     "output_type": "execute_result"
    }
   ],
   "source": [
    "#this a simple arithmetic expression to mutiply then add integers\n",
    "(3*4)+5"
   ]
  },
  {
   "cell_type": "code",
   "execution_count": 3,
   "id": "d3c198d0-f621-4bf2-8f99-5bb875b85e60",
   "metadata": {
    "tags": []
   },
   "outputs": [
    {
     "data": {
      "text/plain": [
       "3.3333333333333335"
      ]
     },
     "execution_count": 3,
     "metadata": {},
     "output_type": "execute_result"
    }
   ],
   "source": [
    "#This will convert 200 minutes to hours by diving by 60\n",
    "200/60"
   ]
  },
  {
   "cell_type": "markdown",
   "id": "5b8bb200-67d2-4279-823b-f7ccf4d02f96",
   "metadata": {},
   "source": []
  }
 ],
 "metadata": {
  "kernelspec": {
   "display_name": "Python",
   "language": "python",
   "name": "conda-env-python-py"
  },
  "language_info": {
   "codemirror_mode": {
    "name": "ipython",
    "version": 3
   },
   "file_extension": ".py",
   "mimetype": "text/x-python",
   "name": "python",
   "nbconvert_exporter": "python",
   "pygments_lexer": "ipython3",
   "version": "3.7.12"
  }
 },
 "nbformat": 4,
 "nbformat_minor": 5
}
